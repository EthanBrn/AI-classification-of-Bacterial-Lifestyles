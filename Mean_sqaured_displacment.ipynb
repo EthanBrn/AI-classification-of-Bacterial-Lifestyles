{
 "cells": [
  {
   "cell_type": "code",
   "execution_count": 43,
   "id": "61cb24aa",
   "metadata": {},
   "outputs": [],
   "source": [
    "import numpy as np\n",
    "import matplotlib.pyplot as plt\n",
    "import pandas as pd\n",
    "from mpl_toolkits import mplot3d\n",
    "import plotly.graph_objects as go\n",
    "import os"
   ]
  },
  {
   "cell_type": "code",
   "execution_count": 46,
   "id": "0ed76886",
   "metadata": {},
   "outputs": [],
   "source": [
    "def mean_squared_displacement_1(file_path):\n",
    "\n",
    "    data = pd.read_csv(file_path, delim_whitespace=True, header=None, \n",
    "                       names=['time', 'x', 'y', 'z', 'x_smooth', 'y_smooth', 'z_smooth'])\n",
    "    x_smooth = np.array(data['x_smooth'])\n",
    "    y_smooth = np.array(data['y_smooth'])\n",
    "    z_smooth = np.array(data['z_smooth'])\n",
    "    time = np.array(data['time'])\n",
    "    \n",
    "    msd_by_tau = {}\n",
    "\n",
    "    for tau in range(1, len(time)):\n",
    "        squared_displacements = []\n",
    "        tau_times = []\n",
    "\n",
    "        for i in range(len(time) - tau):\n",
    "            tau_time = np.round((time[i + tau] - time[i]), 3)\n",
    "            tau_times.append(tau_time)\n",
    "\n",
    "            squared_disp = ((x_smooth[i + tau] - x_smooth[i]) ** 2 +\n",
    "                            (y_smooth[i + tau] - y_smooth[i]) ** 2 +\n",
    "                            (z_smooth[i + tau] - z_smooth[i]) ** 2)\n",
    "            squared_displacements.append(squared_disp)\n",
    "\n",
    "        msd_by_tau[round(np.mean(tau_times), 3)] = np.mean(squared_displacements) \n",
    "\n",
    "    return msd_by_tau\n",
    "\n",
    "\n"
   ]
  },
  {
   "cell_type": "code",
   "execution_count": 47,
   "id": "21cac4fe",
   "metadata": {},
   "outputs": [
    {
     "ename": "AttributeError",
     "evalue": "'tuple' object has no attribute 'keys'",
     "output_type": "error",
     "traceback": [
      "\u001b[0;31m---------------------------------------------------------------------------\u001b[0m",
      "\u001b[0;31mAttributeError\u001b[0m                            Traceback (most recent call last)",
      "\u001b[0;32m<ipython-input-47-00055ae9a6fd>\u001b[0m in \u001b[0;36m<module>\u001b[0;34m\u001b[0m\n\u001b[1;32m      3\u001b[0m \u001b[0;34m\u001b[0m\u001b[0m\n\u001b[1;32m      4\u001b[0m \u001b[0;31m# Extract tau and MSD values for plotting\u001b[0m\u001b[0;34m\u001b[0m\u001b[0;34m\u001b[0m\u001b[0;34m\u001b[0m\u001b[0m\n\u001b[0;32m----> 5\u001b[0;31m \u001b[0mtau_values\u001b[0m \u001b[0;34m=\u001b[0m \u001b[0mlist\u001b[0m\u001b[0;34m(\u001b[0m\u001b[0mmsd_by_tau\u001b[0m\u001b[0;34m.\u001b[0m\u001b[0mkeys\u001b[0m\u001b[0;34m(\u001b[0m\u001b[0;34m)\u001b[0m\u001b[0;34m)\u001b[0m\u001b[0;34m\u001b[0m\u001b[0;34m\u001b[0m\u001b[0m\n\u001b[0m\u001b[1;32m      6\u001b[0m \u001b[0mmsd_values\u001b[0m \u001b[0;34m=\u001b[0m \u001b[0mlist\u001b[0m\u001b[0;34m(\u001b[0m\u001b[0mmsd_by_tau\u001b[0m\u001b[0;34m.\u001b[0m\u001b[0mvalues\u001b[0m\u001b[0;34m(\u001b[0m\u001b[0;34m)\u001b[0m\u001b[0;34m)\u001b[0m\u001b[0;34m\u001b[0m\u001b[0;34m\u001b[0m\u001b[0m\n\u001b[1;32m      7\u001b[0m \u001b[0;34m\u001b[0m\u001b[0m\n",
      "\u001b[0;31mAttributeError\u001b[0m: 'tuple' object has no attribute 'keys'"
     ]
    }
   ],
   "source": [
    "file_path = ('FINALDATA/WT_planktonic_final/track10194_0 (2)_processed.txt')\n",
    "msd_by_tau = mean_squared_displacement(file_path)\n",
    "\n",
    "# Extract tau and MSD values for plotting\n",
    "tau_values = list(msd_by_tau.keys())\n",
    "msd_values = list(msd_by_tau.values())\n",
    "\n",
    "# Apply natural log to both tau and MSD values\n",
    "log_tau_values = np.log(tau_values)\n",
    "log_msd_values = np.log(msd_values)\n",
    "\n",
    "# Plot MSD vs Tau on natural logarithmic scales\n",
    "plt.figure(figsize=(8, 6))\n",
    "plt.scatter(log_tau_values, log_msd_values)\n",
    "\n",
    "# Labels and title\n",
    "plt.xlabel('ln(Tau) (seconds)')\n",
    "plt.ylabel('ln(Mean Squared Displacement) (MSD)')\n",
    "plt.title('MSD vs Tau (Natural Log Scale)')\n",
    "\n",
    "# Add gridlines for easier interpretation\n",
    "plt.grid(True, which='both')\n",
    "\n",
    "# Display the plot\n",
    "plt.show()"
   ]
  },
  {
   "cell_type": "code",
   "execution_count": 48,
   "id": "19f68800",
   "metadata": {},
   "outputs": [],
   "source": [
    "def mean_squared_displacement(file_path):\n",
    "    data = pd.read_csv(file_path, delim_whitespace=True, header=None, \n",
    "                       names=['time', 'x', 'y', 'z', 'x_smooth', 'y_smooth', 'z_smooth'])\n",
    "    x_smooth = np.array(data['x_smooth'])\n",
    "    y_smooth = np.array(data['y_smooth'])\n",
    "    z_smooth = np.array(data['z_smooth'])\n",
    "    time = np.array(data['time'])\n",
    "    \n",
    "    tau_values = []\n",
    "    msd_values = []\n",
    "\n",
    "    for tau in range(1, len(time)):\n",
    "        squared_displacements = []\n",
    "        tau_times = []\n",
    "\n",
    "        for i in range(len(time) - tau):\n",
    "            tau_time = np.round((time[i + tau] - time[i]), 3)\n",
    "            tau_times.append(tau_time)\n",
    "\n",
    "            squared_disp = ((x_smooth[i + tau] - x_smooth[i]) ** 2 +\n",
    "                            (y_smooth[i + tau] - y_smooth[i]) ** 2 +\n",
    "                            (z_smooth[i + tau] - z_smooth[i]) ** 2)\n",
    "            squared_displacements.append(squared_disp)\n",
    "\n",
    "        tau_values.append(np.mean(tau_times))\n",
    "        msd_values.append(np.mean(squared_displacements))\n",
    "\n",
    "    return np.array(tau_values), np.array(msd_values)\n",
    "\n",
    "    "
   ]
  },
  {
   "cell_type": "code",
   "execution_count": 26,
   "id": "061d635f",
   "metadata": {},
   "outputs": [],
   "source": [
    "from scipy.stats import linregress\n",
    "def find_gradient_intercept(file_path):\n",
    "    tau_arr , msd_arr  = mean_squared_displacement(file_path)\n",
    "    \n",
    "    log_tau = np.log(tau_arr)\n",
    "    log_msd = np.log(msd_arr)\n",
    "    \n",
    "    slope, intercept = linregress(log_tau, log_msd)\n",
    "    \n",
    "    return slope , intercept\n",
    "    \n",
    "\n",
    "    "
   ]
  },
  {
   "cell_type": "code",
   "execution_count": 41,
   "id": "9882af7a",
   "metadata": {},
   "outputs": [],
   "source": [
    "def process_directory_1(directory_path):\n",
    "    gradients = []\n",
    "    intercepts = []\n",
    "    \n",
    "    for file_name in os.listdir(directory_path):\n",
    "        file_path = os.path.join(directory_path, file_name)\n",
    "        \n",
    "        if file_path.endswith('.txt'):\n",
    "            slope, intercept = find_gradient_intercept(file_path)\n",
    "            gradients.append(slope)\n",
    "            intercepts.append(intercept)\n",
    "    \n",
    "    return np.array(gradients), np.array(intercepts)"
   ]
  },
  {
   "cell_type": "code",
   "execution_count": null,
   "id": "632fbef7",
   "metadata": {},
   "outputs": [],
   "source": []
  },
  {
   "cell_type": "code",
   "execution_count": 36,
   "id": "74c2db0a",
   "metadata": {},
   "outputs": [],
   "source": [
    "from multiprocessing import Pool\n",
    "def process_directory_2(directory_path):\n",
    "    files = [os.path.join(directory_path, f) for f in os.listdir(directory_path) if f.endswith('.txt')]\n",
    "    \n",
    "    # Use multiprocessing to parallelize file processing\n",
    "    with Pool() as pool:\n",
    "        results = pool.map(find_gradient_intercept, files)\n",
    "    \n",
    "    gradients, intercepts = zip(*results)\n",
    "    return np.array(gradients), np.array(intercepts)\n"
   ]
  },
  {
   "cell_type": "code",
   "execution_count": null,
   "id": "eb336e46",
   "metadata": {},
   "outputs": [],
   "source": []
  },
  {
   "cell_type": "code",
   "execution_count": null,
   "id": "833ec1d9",
   "metadata": {},
   "outputs": [],
   "source": []
  },
  {
   "cell_type": "code",
   "execution_count": 38,
   "id": "9a83f375",
   "metadata": {},
   "outputs": [
    {
     "data": {
      "text/plain": [
       "(1.7481764411255623, 6.6211007449728205)"
      ]
     },
     "execution_count": 38,
     "metadata": {},
     "output_type": "execute_result"
    }
   ],
   "source": []
  },
  {
   "cell_type": "code",
   "execution_count": null,
   "id": "db542867",
   "metadata": {},
   "outputs": [],
   "source": []
  }
 ],
 "metadata": {
  "kernelspec": {
   "display_name": "Python 3",
   "language": "python",
   "name": "python3"
  },
  "language_info": {
   "codemirror_mode": {
    "name": "ipython",
    "version": 3
   },
   "file_extension": ".py",
   "mimetype": "text/x-python",
   "name": "python",
   "nbconvert_exporter": "python",
   "pygments_lexer": "ipython3",
   "version": "3.8.8"
  }
 },
 "nbformat": 4,
 "nbformat_minor": 5
}
